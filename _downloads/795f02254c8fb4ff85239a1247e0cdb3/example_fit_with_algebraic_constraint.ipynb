{
  "cells": [
    {
      "cell_type": "code",
      "execution_count": null,
      "metadata": {
        "collapsed": false
      },
      "outputs": [],
      "source": [
        "%matplotlib inline"
      ]
    },
    {
      "cell_type": "markdown",
      "metadata": {},
      "source": [
        "\n# Fit with Algebraic Constraint\n"
      ]
    },
    {
      "cell_type": "code",
      "execution_count": null,
      "metadata": {
        "collapsed": false
      },
      "outputs": [],
      "source": [
        "import matplotlib.pyplot as plt\nfrom numpy import linspace, random\n\nfrom lmfit import Minimizer, Parameters\nfrom lmfit.lineshapes import gaussian, lorentzian\nfrom lmfit.printfuncs import report_fit\n\n\ndef residual(pars, x, sigma=None, data=None):\n    yg = gaussian(x, pars['amp_g'], pars['cen_g'], pars['wid_g'])\n    yl = lorentzian(x, pars['amp_l'], pars['cen_l'], pars['wid_l'])\n\n    slope = pars['line_slope']\n    offset = pars['line_off']\n    model = yg + yl + offset + x*slope\n\n    if data is None:\n        return model\n    if sigma is None:\n        return model - data\n    return (model - data) / sigma\n\n\nrandom.seed(0)\nx = linspace(0.0, 20.0, 601)\n\ndata = (gaussian(x, 21, 8.1, 1.2) +\n        lorentzian(x, 10, 9.6, 2.4) +\n        random.normal(scale=0.23, size=x.size) + x*0.5)\n\npfit = Parameters()\npfit.add(name='amp_g', value=10)\npfit.add(name='cen_g', value=9)\npfit.add(name='wid_g', value=1)\npfit.add(name='amp_tot', value=20)\npfit.add(name='amp_l', expr='amp_tot - amp_g')\npfit.add(name='cen_l', expr='1.5+cen_g')\npfit.add(name='wid_l', expr='2*wid_g')\npfit.add(name='line_slope', value=0.0)\npfit.add(name='line_off', value=0.0)\n\nsigma = 0.021  # estimate of data error (for all data points)\n\nmyfit = Minimizer(residual, pfit, fcn_args=(x,),\n                  fcn_kws={'sigma': sigma, 'data': data})\n\nresult = myfit.leastsq()\ninit = residual(pfit, x)\nfit = residual(result.params, x)\n\nreport_fit(result)"
      ]
    },
    {
      "cell_type": "code",
      "execution_count": null,
      "metadata": {
        "collapsed": false
      },
      "outputs": [],
      "source": [
        "plt.plot(x, data, '+')\nplt.plot(x, init, '--', label='initial fit')\nplt.plot(x, fit, '-', label='best fit')\nplt.legend()"
      ]
    }
  ],
  "metadata": {
    "kernelspec": {
      "display_name": "Python 3",
      "language": "python",
      "name": "python3"
    },
    "language_info": {
      "codemirror_mode": {
        "name": "ipython",
        "version": 3
      },
      "file_extension": ".py",
      "mimetype": "text/x-python",
      "name": "python",
      "nbconvert_exporter": "python",
      "pygments_lexer": "ipython3",
      "version": "3.9.15"
    }
  },
  "nbformat": 4,
  "nbformat_minor": 0
}