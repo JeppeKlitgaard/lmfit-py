{
  "cells": [
    {
      "cell_type": "code",
      "execution_count": null,
      "metadata": {
        "collapsed": false
      },
      "outputs": [],
      "source": [
        "%matplotlib inline"
      ]
    },
    {
      "cell_type": "markdown",
      "metadata": {},
      "source": [
        "\n# doc_fitting_withreport.py\n"
      ]
    },
    {
      "cell_type": "code",
      "execution_count": null,
      "metadata": {
        "collapsed": false
      },
      "outputs": [],
      "source": [
        "# <examples/doc_fitting_withreport.py>\nfrom numpy import exp, linspace, pi, random, sign, sin\n\nfrom lmfit import Parameters, fit_report, minimize\n\np_true = Parameters()\np_true.add('amp', value=14.0)\np_true.add('period', value=5.46)\np_true.add('shift', value=0.123)\np_true.add('decay', value=0.032)\n\n\ndef residual(pars, x, data=None):\n    \"\"\"Model a decaying sine wave and subtract data.\"\"\"\n    vals = pars.valuesdict()\n    amp = vals['amp']\n    per = vals['period']\n    shift = vals['shift']\n    decay = vals['decay']\n\n    if abs(shift) > pi/2:\n        shift = shift - sign(shift)*pi\n    model = amp * sin(shift + x/per) * exp(-x*x*decay*decay)\n    if data is None:\n        return model\n    return model - data\n\n\nrandom.seed(0)\nx = linspace(0.0, 250., 1001)\nnoise = random.normal(scale=0.7215, size=x.size)\ndata = residual(p_true, x) + noise\n\nfit_params = Parameters()\nfit_params.add('amp', value=13.0)\nfit_params.add('period', value=2)\nfit_params.add('shift', value=0.0)\nfit_params.add('decay', value=0.02)\n\nout = minimize(residual, fit_params, args=(x,), kws={'data': data})\n\nprint(fit_report(out))\n# <end examples/doc_fitting_withreport.py>"
      ]
    }
  ],
  "metadata": {
    "kernelspec": {
      "display_name": "Python 3",
      "language": "python",
      "name": "python3"
    },
    "language_info": {
      "codemirror_mode": {
        "name": "ipython",
        "version": 3
      },
      "file_extension": ".py",
      "mimetype": "text/x-python",
      "name": "python",
      "nbconvert_exporter": "python",
      "pygments_lexer": "ipython3",
      "version": "3.10.8"
    }
  },
  "nbformat": 4,
  "nbformat_minor": 0
}